{
 "cells": [
  {
   "cell_type": "markdown",
   "id": "d245acea",
   "metadata": {
    "run_control": {
     "marked": true
    }
   },
   "source": [
    "# Exercises - Data Science Sprint 02 - S02 T04\n",
    "   **Practice with numerical programming**"
   ]
  },
  {
   "cell_type": "markdown",
   "id": "2848916a",
   "metadata": {},
   "source": [
    "## Level 1\n"
   ]
  },
  {
   "cell_type": "markdown",
   "id": "faafe66d",
   "metadata": {},
   "source": [
    "### Level 1 - Exercise 1\n",
    "    * Creating of a list that contains other lists inside\n"
   ]
  },
  {
   "cell_type": "code",
   "execution_count": null,
   "id": "05946687",
   "metadata": {
    "ExecuteTime": {
     "end_time": "2022-06-27T23:16:16.499340Z",
     "start_time": "2022-06-27T23:16:16.494356Z"
    }
   },
   "outputs": [],
   "source": [
    "\n"
   ]
  },
  {
   "cell_type": "markdown",
   "id": "308a7c9f",
   "metadata": {},
   "source": [
    "### Level 1 - Exercise 2\n",
    "* Create different codes in order to extract data from the list"
   ]
  },
  {
   "cell_type": "code",
   "execution_count": null,
   "id": "bffa340e",
   "metadata": {
    "ExecuteTime": {
     "end_time": "2022-06-27T23:15:25.540236Z",
     "start_time": "2022-06-27T23:15:25.527280Z"
    }
   },
   "outputs": [],
   "source": [
    "\n"
   ]
  },
  {
   "cell_type": "markdown",
   "id": "eac710bc",
   "metadata": {},
   "source": [
    "### Level 1 - Exercise 3\n",
    "* Creation of a list of non ordered numbers, and answer to some questions"
   ]
  },
  {
   "cell_type": "code",
   "execution_count": null,
   "id": "f14de839",
   "metadata": {
    "ExecuteTime": {
     "end_time": "2022-06-27T23:33:01.313182Z",
     "start_time": "2022-06-27T23:33:01.294239Z"
    }
   },
   "outputs": [],
   "source": [
    "\n"
   ]
  },
  {
   "cell_type": "markdown",
   "id": "4df310ce",
   "metadata": {
    "ExecuteTime": {
     "end_time": "2022-06-21T20:57:15.582844Z",
     "start_time": "2022-06-21T20:57:15.568892Z"
    }
   },
   "source": [
    "### Level 1 - Exercise 4\n",
    "* Exporting Notebook as a **PDF** and as **html**\n",
    "   - [x] Already in folder "
   ]
  },
  {
   "cell_type": "code",
   "execution_count": null,
   "id": "2420143b",
   "metadata": {},
   "outputs": [],
   "source": []
  },
  {
   "cell_type": "code",
   "execution_count": null,
   "id": "998f5681",
   "metadata": {},
   "outputs": [],
   "source": []
  }
 ],
 "metadata": {
  "kernelspec": {
   "display_name": "Python 3 (ipykernel)",
   "language": "python",
   "name": "python3"
  },
  "language_info": {
   "codemirror_mode": {
    "name": "ipython",
    "version": 3
   },
   "file_extension": ".py",
   "mimetype": "text/x-python",
   "name": "python",
   "nbconvert_exporter": "python",
   "pygments_lexer": "ipython3",
   "version": "3.9.12"
  },
  "nbTranslate": {
   "displayLangs": [
    "en"
   ],
   "hotkey": "alt-t",
   "langInMainMenu": true,
   "sourceLang": "en",
   "targetLang": "fr",
   "useGoogleTranslate": true
  },
  "toc": {
   "base_numbering": 1,
   "nav_menu": {
    "height": "300px",
    "width": "278px"
   },
   "number_sections": true,
   "sideBar": true,
   "skip_h1_title": true,
   "title_cell": "Table of Contents",
   "title_sidebar": "Contents",
   "toc_cell": false,
   "toc_position": {
    "height": "calc(100% - 180px)",
    "left": "10px",
    "top": "150px",
    "width": "384px"
   },
   "toc_section_display": true,
   "toc_window_display": true
  },
  "varInspector": {
   "cols": {
    "lenName": 16,
    "lenType": 16,
    "lenVar": 40
   },
   "kernels_config": {
    "python": {
     "delete_cmd_postfix": "",
     "delete_cmd_prefix": "del ",
     "library": "var_list.py",
     "varRefreshCmd": "print(var_dic_list())"
    },
    "r": {
     "delete_cmd_postfix": ") ",
     "delete_cmd_prefix": "rm(",
     "library": "var_list.r",
     "varRefreshCmd": "cat(var_dic_list()) "
    }
   },
   "types_to_exclude": [
    "module",
    "function",
    "builtin_function_or_method",
    "instance",
    "_Feature"
   ],
   "window_display": false
  }
 },
 "nbformat": 4,
 "nbformat_minor": 5
}
