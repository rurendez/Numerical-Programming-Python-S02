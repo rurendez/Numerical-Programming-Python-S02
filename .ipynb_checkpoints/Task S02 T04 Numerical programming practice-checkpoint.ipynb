{
 "cells": [
  {
   "cell_type": "markdown",
   "id": "d245acea",
   "metadata": {
    "run_control": {
     "marked": true
    }
   },
   "source": [
    "# Exercises - Data Science Sprint 02 - S02 T04\n",
    "   **Numerical programming practice**"
   ]
  },
  {
   "cell_type": "markdown",
   "id": "2848916a",
   "metadata": {},
   "source": [
    "## Level 1\n",
    "**Use Numerical Programming by means of Numpy library**\n"
   ]
  },
  {
   "cell_type": "markdown",
   "id": "faafe66d",
   "metadata": {},
   "source": [
    "### Level 1 - Exercise 1\n",
    "* Design a function where given an array, it must show a basic statistic summary. In case the array has more than one dimension it must show an error missage\n"
   ]
  },
  {
   "cell_type": "code",
   "execution_count": 1,
   "id": "05946687",
   "metadata": {
    "ExecuteTime": {
     "end_time": "2022-07-05T14:28:31.298700Z",
     "start_time": "2022-07-05T14:28:31.177660Z"
    }
   },
   "outputs": [
    {
     "name": "stdout",
     "output_type": "stream",
     "text": [
      "Error: Array dimension is greater than 1 \n",
      "\n",
      "The mean is:  32\n",
      "The geometric mean is:  16.1\n",
      "The mode is:  7\n",
      "The Standard deviations is:  35.1 \n",
      "\n"
     ]
    }
   ],
   "source": [
    "import numpy as np\n",
    "import statistics\n",
    "\n",
    "# Function that gets the basic statistic summary only if dimension is 1\n",
    "def statSum (arr):\n",
    "    if arr.ndim > 1:\n",
    "        print(\"Error: Array dimension is greater than 1\",\"\\n\")\n",
    "    else:\n",
    "        print(\"The mean is: \", statistics.mean(arr))\n",
    "        print(\"The geometric mean is: \", round(statistics.geometric_mean(arr), 1))\n",
    "        print(\"The mode is: \", statistics.mode(arr))\n",
    "        print(\"The Standard deviations is: \", round(statistics.stdev(arr), 1),\"\\n\")       \n",
    "        \n",
    "# Testing the function with an array of 2 dimensions        \n",
    "arr1 = np.array([[3,5,6,7,99,7,56,66,44],[99,76,87,9,72,10,6,14,15]])\n",
    "statSum(arr1)\n",
    "\n",
    "# Testing the function with an array of 1 dimension        \n",
    "arr2 = np.array([3,5,6,7,99,7,56,66,44])\n",
    "statSum(arr2)\n",
    "        "
   ]
  },
  {
   "cell_type": "markdown",
   "id": "308a7c9f",
   "metadata": {},
   "source": [
    "### Level 1 - Exercise 2\n",
    "* Design a function to generate an square NxN filled with random numbers form 0 to 100"
   ]
  },
  {
   "cell_type": "code",
   "execution_count": 2,
   "id": "bffa340e",
   "metadata": {
    "ExecuteTime": {
     "end_time": "2022-07-05T14:28:34.289505Z",
     "start_time": "2022-07-05T14:28:31.300661Z"
    }
   },
   "outputs": [
    {
     "name": "stdout",
     "output_type": "stream",
     "text": [
      "Enter size of array square: 6\n",
      "[[ 29  25  66  67  43 100]\n",
      " [  0  13  89  79  97  29]\n",
      " [ 32  44  70  70  96  70]\n",
      " [ 11  89  27  68  28  87]\n",
      " [ 47  91  22  79 100  45]\n",
      " [ 48  58  73  11   4  92]]\n"
     ]
    }
   ],
   "source": [
    "import numpy as np\n",
    "\n",
    "# Definition created to return an NxN square for a given number. \n",
    "# All squares are filled with random numbers form 0 to 100\n",
    "def genSquare (arr):\n",
    "    n = (int(input(\"Enter size of array square: \")))\n",
    "    arr = np.random.randint(0,101, size=(n,n)) \n",
    "    return (arr)\n",
    "   \n",
    "arr = []\n",
    "print(genSquare(arr))"
   ]
  },
  {
   "cell_type": "markdown",
   "id": "eac710bc",
   "metadata": {},
   "source": [
    "### Level 1 - Exercise 3\n",
    "* Design a function where given an array of 2 dimensions, it sums the total of each row and each column"
   ]
  },
  {
   "cell_type": "code",
   "execution_count": 3,
   "id": "f14de839",
   "metadata": {
    "ExecuteTime": {
     "end_time": "2022-07-05T14:28:34.305542Z",
     "start_time": "2022-07-05T14:28:34.291498Z"
    }
   },
   "outputs": [
    {
     "name": "stdout",
     "output_type": "stream",
     "text": [
      "[[0 4 3 4 0 0 4]\n",
      " [3 2 3 3 2 4 4]\n",
      " [4 0 1 3 3 4 4]\n",
      " [2 0 0 2 0 0 0]\n",
      " [3 0 0 1 3 0 4]\n",
      " [1 3 0 2 3 1 1]\n",
      " [3 3 1 2 4 3 0]]\n",
      "Sum of columns:  [16 12  8 17 15 12 17]\n",
      "Sum of rows:  [15 21 19  4 11 11 16]\n"
     ]
    }
   ],
   "source": [
    "import numpy as np\n",
    "\n",
    "# Function to get the sum of arrays and rows of a 2 dimension array\n",
    "def arrSum (arr):\n",
    "    print (\"Sum of columns: \", np.sum(arr, axis=0))\n",
    "    print (\"Sum of rows: \", np.sum(arr, axis=1))\n",
    "\n",
    "# Create a random array \n",
    "arr = np.random.randint(0,5, size=(7,7)) \n",
    "print(arr)\n",
    "arrSum(arr)"
   ]
  },
  {
   "cell_type": "markdown",
   "id": "4df310ce",
   "metadata": {
    "ExecuteTime": {
     "end_time": "2022-06-21T20:57:15.582844Z",
     "start_time": "2022-06-21T20:57:15.568892Z"
    }
   },
   "source": [
    "### Level 1 - Exercise 4\n",
    "* Program manually a function in order to calculate the correlation coefficient. Show how can be used and interpreted.\n",
    "\n",
    "The correlation coefficient is used  to analyze and understand a set of variables. It is concerned with the state of the relation. In this case we will use the most common type used, the Pearson Correlation.\n",
    "\n",
    "The correlation measures the linear relationship between 2 variables. The strongest the correlation between these two datasets, the closer it will to +1 or -1. I the coefficient is near zero, it is weak.\n",
    "\n",
    "In order to calculate it manually we can perform 5 steps.\n"
   ]
  },
  {
   "cell_type": "markdown",
   "id": "cd2a00d9",
   "metadata": {
    "ExecuteTime": {
     "end_time": "2022-07-05T08:43:06.382438Z",
     "start_time": "2022-07-05T08:43:06.364437Z"
    }
   },
   "source": [
    "#### Step 1 - Determine the data set"
   ]
  },
  {
   "cell_type": "code",
   "execution_count": 4,
   "id": "82cb4e46",
   "metadata": {
    "ExecuteTime": {
     "end_time": "2022-07-05T14:28:34.970443Z",
     "start_time": "2022-07-05T14:28:34.307498Z"
    },
    "scrolled": true
   },
   "outputs": [
    {
     "name": "stdout",
     "output_type": "stream",
     "text": [
      "Array x:  [32.09710045 21.40894011 16.77940616 12.77906154 42.47729221 17.01411278\n",
      "  9.87202094 31.47490887 28.22490736 31.82637716 21.59802744 47.79285813\n",
      " 25.69307601 26.67512096 24.00010325 12.08739385 25.29981977 29.92556739\n",
      " 44.06338596 14.43844821 45.82244723 43.23317872  9.69198662 35.23897897\n",
      "  4.29379389 25.5223314  35.10248999 33.11156754 45.3531309  20.27925236]\n",
      "Array y:  [46.20571872 41.63828423 41.21893214 28.71684036 48.13507796 30.36484587\n",
      "  3.37676159 26.26464085 20.63344619  2.87803425 42.5376966  34.0425779\n",
      " 15.32082793  2.60436713 42.65496566 46.82698936 49.49904876  8.53327173\n",
      " 30.7470204  21.93576235  8.04473839 29.22913861  5.12451015 43.87723151\n",
      " 40.62025797 38.0848528  44.99376036 43.81012695 32.39477978  5.05806749]\n"
     ]
    },
    {
     "data": {
      "text/plain": [
       "<function matplotlib.pyplot.show(close=None, block=None)>"
      ]
     },
     "execution_count": 4,
     "metadata": {},
     "output_type": "execute_result"
    },
    {
     "data": {
      "image/png": "[encoded data removed]",
      "text/plain": [
       "<Figure size 432x288 with 1 Axes>"
      ]
     },
     "metadata": {
      "needs_background": "light"
     },
     "output_type": "display_data"
    }
   ],
   "source": [
    "import numpy as np\n",
    "import matplotlib.pyplot as plt\n",
    "import statistics\n",
    "\n",
    "# Define 2 arrys for x and y axis\n",
    "xdata = np.random.uniform(0.0, 50.0, size=(30,)) \n",
    "ydata = np.random.uniform(0.0, 50.0, size=(30,))\n",
    "\n",
    "# Printing arrays\n",
    "print (\"Array x: \", xdata)\n",
    "print (\"Array y: \", ydata)\n",
    "\n",
    "# Plotting point to visual check their location\n",
    "plt.scatter(xdata, ydata)\n",
    "plt.show"
   ]
  },
  {
   "cell_type": "markdown",
   "id": "57f9dca0",
   "metadata": {
    "ExecuteTime": {
     "end_time": "2022-07-05T08:43:06.382438Z",
     "start_time": "2022-07-05T08:43:06.364437Z"
    }
   },
   "source": [
    "#### Step 2 - Calculate the standardized value for x variables: (z(x))(i) = (x(i) - x̅) / s(x)"
   ]
  },
  {
   "cell_type": "code",
   "execution_count": 5,
   "id": "271192a1",
   "metadata": {
    "ExecuteTime": {
     "end_time": "2022-07-05T14:28:34.986448Z",
     "start_time": "2022-07-05T14:28:34.971443Z"
    }
   },
   "outputs": [
    {
     "name": "stdout",
     "output_type": "stream",
     "text": [
      "Mean axis x:  27.10590287164056\n",
      "Standart deviation axis x:  11.80986406017686\n",
      "Array of values:  [ 0.42262955 -0.48239021 -0.8743959  -1.213125    1.30157208 -0.85452212\n",
      " -1.4592786   0.36994549  0.09475168  0.39970606 -0.46637924  1.75166752\n",
      " -0.11963109 -0.03647645 -0.26298352 -1.27169195 -0.15293005  0.23875504\n",
      "  1.43587454 -1.07261647  1.58482301  1.36557676 -1.47452301  0.68866805\n",
      " -1.93161487 -0.13408888  0.67711085  0.50852953  1.54508366 -0.57804649]\n"
     ]
    }
   ],
   "source": [
    "# Get calculations for mean, and standard deviation (axis x)\n",
    "\n",
    "xmean = statistics.mean(xdata)\n",
    "print (\"Mean axis x: \", xmean)\n",
    "\n",
    "stdxdata = np.std(xdata)\n",
    "print (\"Standart deviation axis x: \", stdxdata)\n",
    "\n",
    "stdxdata = (xdata - xmean)/stdxdata\n",
    "print (\"Array of values: \", stdxdata)"
   ]
  },
  {
   "cell_type": "markdown",
   "id": "dc6cb44d",
   "metadata": {
    "ExecuteTime": {
     "end_time": "2022-07-05T08:43:06.382438Z",
     "start_time": "2022-07-05T08:43:06.364437Z"
    }
   },
   "source": [
    "#### Step 3 - Calculate the standardized value for y variables: (z(y))(i) = (y(i) - ȳ) / s(y)"
   ]
  },
  {
   "cell_type": "code",
   "execution_count": 6,
   "id": "9b602fa7",
   "metadata": {
    "ExecuteTime": {
     "end_time": "2022-07-05T14:28:35.002448Z",
     "start_time": "2022-07-05T14:28:34.987448Z"
    }
   },
   "outputs": [
    {
     "name": "stdout",
     "output_type": "stream",
     "text": [
      "Mean axis y:  29.179085800022712\n",
      "Standart deviation axis y:  15.69016431579582\n",
      "Array of values:  [ 1.08517875  0.79407699  0.76734992 -0.02946084  1.20814491  0.07557346\n",
      " -1.64449038 -0.1857498  -0.54464947 -1.67627636  0.85140031  0.30997076\n",
      " -0.88324492 -1.69371832  0.85887436  1.12477494  1.29507649 -1.31584435\n",
      "  0.09993105 -0.46164739 -1.34698063  0.00319008 -1.53309903  0.93677449\n",
      "  0.7291939   0.56760189  1.00793556  0.93249764  0.20494967 -1.5373337 ]\n"
     ]
    }
   ],
   "source": [
    "# Get calculations for mean, and standard deviation (axis y)\n",
    "\n",
    "ymean = statistics.mean(ydata)\n",
    "print (\"Mean axis y: \", ymean)\n",
    "\n",
    "stdydata = np.std(ydata)\n",
    "print (\"Standart deviation axis y: \", stdydata)\n",
    "\n",
    "stdydata = (ydata - ymean)/stdydata\n",
    "print (\"Array of values: \", stdydata)"
   ]
  },
  {
   "cell_type": "markdown",
   "id": "678e3078",
   "metadata": {
    "ExecuteTime": {
     "end_time": "2022-07-05T08:43:06.382438Z",
     "start_time": "2022-07-05T08:43:06.364437Z"
    }
   },
   "source": [
    "#### Step 4 - Multiply and find the sum: (z(x))(i) * (z(y))(i)"
   ]
  },
  {
   "cell_type": "code",
   "execution_count": 7,
   "id": "cd21bf4f",
   "metadata": {
    "ExecuteTime": {
     "end_time": "2022-07-05T14:28:35.018447Z",
     "start_time": "2022-07-05T14:28:35.003444Z"
    }
   },
   "outputs": [
    {
     "name": "stdout",
     "output_type": "stream",
     "text": [
      "[ 0.45862861 -0.38305496 -0.67096762  0.03573968  1.57248769 -0.0645792\n",
      "  2.39976962 -0.0687173  -0.05160645 -0.67001783 -0.39707543  0.54296571\n",
      "  0.10566355  0.06178083 -0.2258698  -1.43036723 -0.19805611 -0.31416446\n",
      "  0.14348845  0.4951706  -2.1347259   0.00435629  2.26058979  0.64512667\n",
      " -1.40852179 -0.0761091   0.68248411  0.47420259  0.31666438  0.88865035]\n"
     ]
    }
   ],
   "source": [
    "# Multiply the standardized values together\n",
    "mult = stdxdata * stdydata\n",
    "print (mult)"
   ]
  },
  {
   "cell_type": "markdown",
   "id": "e8d37abe",
   "metadata": {
    "ExecuteTime": {
     "end_time": "2022-07-05T08:43:06.382438Z",
     "start_time": "2022-07-05T08:43:06.364437Z"
    }
   },
   "source": [
    "#### Step 5 - Divide the sum and determine the correlation coefficient"
   ]
  },
  {
   "cell_type": "code",
   "execution_count": 8,
   "id": "762e2430",
   "metadata": {
    "ExecuteTime": {
     "end_time": "2022-07-05T14:28:35.034480Z",
     "start_time": "2022-07-05T14:28:35.019448Z"
    }
   },
   "outputs": [
    {
     "name": "stdout",
     "output_type": "stream",
     "text": [
      "The manually calculated correlation is 0.09979785699524955\n",
      "\n",
      "The correlation calculated using method corrcoef is: [[1.         0.09979786]\n",
      " [0.09979786 1.        ]]\n"
     ]
    }
   ],
   "source": [
    "# Divide multiplication sum by the total points\n",
    "numPoints = len(xdata)\n",
    "correlation =  (mult.sum()/numPoints)\n",
    "print(\"The manually calculated correlation is\", correlation)\n",
    "\n",
    "# This is a check with the corrcoef method\n",
    "calcCorrelation = np.corrcoef(xdata, ydata)\n",
    "print (\"\\nThe correlation calculated using method corrcoef is:\", calcCorrelation)\n"
   ]
  },
  {
   "cell_type": "markdown",
   "id": "8ea10da3",
   "metadata": {},
   "source": [
    "#### Function definition - correlation coefficient"
   ]
  },
  {
   "cell_type": "code",
   "execution_count": 3,
   "id": "42717ab0",
   "metadata": {
    "ExecuteTime": {
     "end_time": "2022-07-06T05:58:14.263734Z",
     "start_time": "2022-07-06T05:58:14.189608Z"
    }
   },
   "outputs": [
    {
     "name": "stdout",
     "output_type": "stream",
     "text": [
      "Array x:  [49.79267431 23.02551547 23.35275441 47.03551479 39.8926653  45.62228907\n",
      " 42.59566737  7.57498708 24.47080376  7.56498328  2.47199338 37.7970257\n",
      "  0.62965326  2.68731517 39.69255291 18.69510138 20.04450973 34.09180939\n",
      " 24.58083016 48.95594996  6.6989762   1.59376715 19.24093523  0.76814649\n",
      " 21.31217668 26.04458762 35.58355355 38.60309389 21.74179934 12.8936523 ]\n",
      "Array y:  [37.98499819 12.16696701 18.42905863 18.26059576 39.07580598 22.16405777\n",
      " 17.89115352 28.42554693  6.73508521  7.78413008 36.77203199 26.41983421\n",
      " 11.78399062 12.97944484 10.00287054  7.4514489  10.68021954  5.713781\n",
      " 25.32929468 15.62182628 42.61828722 36.88639418 29.75648947 47.50439905\n",
      "  0.8384075  43.17834558 10.67664568 26.79909401 10.84012752 33.48735537]\n",
      "Mean axis x:  24.168509476006218\n",
      "Standart deviation axis x:  15.62336279157767\n",
      "Array of values:  [ 1.6401184  -0.07315928 -0.0522138   1.4636417   1.00645143  1.37318578\n",
      "  1.17946169 -1.06209672  0.01934886 -1.06273703 -1.38872254  0.87231644\n",
      " -1.50664467 -1.3749405   0.9936429  -0.35033483 -0.26396364  0.63515775\n",
      "  0.02639129  1.58656243 -1.11816729 -1.44493491 -0.3153978  -1.49778017\n",
      " -0.18282446  0.12008158  0.73063938  0.92391021 -0.15532572 -0.72166648]\n",
      "Mean axis y:  21.808589574635004\n",
      "Standart deviation axis y:  12.972273708628274\n",
      "Array of values:  [ 1.24699871 -0.74324847 -0.26051955 -0.27350593  1.33108635  0.02740215\n",
      " -0.30198531  0.51008462 -1.16197859 -1.08111036  1.15349419  0.35546927\n",
      " -0.77277116 -0.68061659 -0.91007323 -1.10675592 -0.8578581  -1.24070837\n",
      "  0.27140231 -0.47692204  1.60416733  1.16231009  0.61268364  1.98082542\n",
      " -1.61653867  1.64734082 -0.8581336   0.38470545 -0.84553119  0.90028672]\n",
      "[ 2.04522554  0.05437552  0.01360271 -0.40031469  1.33967376  0.03762824\n",
      " -0.3561801  -0.54175921 -0.02248296  1.14893601 -1.60188339  0.31008169\n",
      "  1.16429154  0.93580732 -0.9042878   0.38773514  0.22644335 -0.78804553\n",
      "  0.00716266 -0.7566666  -1.79372744 -1.67946242 -0.19323907 -2.96684103\n",
      "  0.2955428   0.19781529 -0.6269862   0.3554333   0.13133274 -0.64970675]\n",
      "The manually calculated correlation is -0.1543498521908667\n",
      "-0.1543498521908667\n",
      "\n",
      "The correlation calculated using method corrcoef is: [[ 1.         -0.15434985]\n",
      " [-0.15434985  1.        ]]\n"
     ]
    },
    {
     "data": {
      "image/png": "[encoded data removed]",
      "text/plain": [
       "<Figure size 432x288 with 1 Axes>"
      ]
     },
     "metadata": {
      "needs_background": "light"
     },
     "output_type": "display_data"
    }
   ],
   "source": [
    "import numpy as np\n",
    "import matplotlib.pyplot as plt\n",
    "import statistics\n",
    "\n",
    "# Function definition for Correlation Coefficient Calculations\n",
    "def calcCorrCoef (xdata, ydata):\n",
    "    # Printing arrays\n",
    "    print (\"Array x: \", xdata)\n",
    "    print (\"Array y: \", ydata)\n",
    "    \n",
    "    # Plotting point to visual check their location\n",
    "    plt.scatter(xdata, ydata)\n",
    "    plt.show\n",
    "    \n",
    "    # Get calculations for mean, and standard deviation (axis x)\n",
    "    xmean = statistics.mean(xdata)\n",
    "    print (\"Mean axis x: \", xmean)\n",
    "    stdxdata = np.std(xdata)\n",
    "    print (\"Standart deviation axis x: \", stdxdata)\n",
    "    stdxdata = (xdata - xmean)/stdxdata\n",
    "    print (\"Array of values: \", stdxdata)\n",
    "\n",
    "    # Get calculations for mean, and standard deviation (axis y)\n",
    "    ymean = statistics.mean(ydata)\n",
    "    print (\"Mean axis y: \", ymean)\n",
    "    stdydata = np.std(ydata)\n",
    "    print (\"Standart deviation axis y: \", stdydata)\n",
    "    stdydata = (ydata - ymean)/stdydata\n",
    "    print (\"Array of values: \", stdydata)\n",
    "\n",
    "    # Multiply the standardized values together\n",
    "    mult = stdxdata * stdydata\n",
    "    print (mult)\n",
    "\n",
    "    # Divide multiplication sum by the total points\n",
    "    numPoints = len(xdata)\n",
    "    correlation =  (mult.sum()/numPoints)\n",
    "    print(\"The manually calculated correlation is\", correlation)\n",
    "    return (correlation) \n",
    "\n",
    "# Define 2 arrys for x and y axis\n",
    "xdata = np.random.uniform(0.0, 50.0, size=(30,)) \n",
    "ydata = np.random.uniform(0.0, 50.0, size=(30,))\n",
    "\n",
    "print(calcCorrCoef (xdata, ydata))\n",
    "\n",
    "# This is a check with the corrcoef method\n",
    "calcCorrelation = np.corrcoef(xdata, ydata)\n",
    "print (\"\\nThe correlation calculated using method corrcoef is:\", calcCorrelation)\n"
   ]
  },
  {
   "cell_type": "code",
   "execution_count": null,
   "id": "8a0f678d",
   "metadata": {},
   "outputs": [],
   "source": []
  }
 ],
 "metadata": {
  "kernelspec": {
   "display_name": "Python 3 (ipykernel)",
   "language": "python",
   "name": "python3"
  },
  "language_info": {
   "codemirror_mode": {
    "name": "ipython",
    "version": 3
   },
   "file_extension": ".py",
   "mimetype": "text/x-python",
   "name": "python",
   "nbconvert_exporter": "python",
   "pygments_lexer": "ipython3",
   "version": "3.9.12"
  },
  "latex_envs": {
   "LaTeX_envs_menu_present": true,
   "autoclose": false,
   "autocomplete": true,
   "bibliofile": "biblio.bib",
   "cite_by": "apalike",
   "current_citInitial": 1,
   "eqLabelWithNumbers": true,
   "eqNumInitial": 1,
   "hotkeys": {
    "equation": "Ctrl-E",
    "itemize": "Ctrl-I"
   },
   "labels_anchors": false,
   "latex_user_defs": false,
   "report_style_numbering": false,
   "user_envs_cfg": false
  },
  "nbTranslate": {
   "displayLangs": [
    "en"
   ],
   "hotkey": "alt-t",
   "langInMainMenu": true,
   "sourceLang": "en",
   "targetLang": "fr",
   "useGoogleTranslate": true
  },
  "toc": {
   "base_numbering": 1,
   "nav_menu": {
    "height": "300px",
    "width": "278px"
   },
   "number_sections": true,
   "sideBar": true,
   "skip_h1_title": true,
   "title_cell": "Table of Contents",
   "title_sidebar": "Contents",
   "toc_cell": false,
   "toc_position": {
    "height": "calc(100% - 180px)",
    "left": "10px",
    "top": "150px",
    "width": "384px"
   },
   "toc_section_display": true,
   "toc_window_display": true
  },
  "varInspector": {
   "cols": {
    "lenName": 16,
    "lenType": 16,
    "lenVar": 40
   },
   "kernels_config": {
    "python": {
     "delete_cmd_postfix": "",
     "delete_cmd_prefix": "del ",
     "library": "var_list.py",
     "varRefreshCmd": "print(var_dic_list())"
    },
    "r": {
     "delete_cmd_postfix": ") ",
     "delete_cmd_prefix": "rm(",
     "library": "var_list.r",
     "varRefreshCmd": "cat(var_dic_list()) "
    }
   },
   "types_to_exclude": [
    "module",
    "function",
    "builtin_function_or_method",
    "instance",
    "_Feature"
   ],
   "window_display": false
  }
 },
 "nbformat": 4,
 "nbformat_minor": 5
}
